{
 "cells": [
  {
   "cell_type": "markdown",
   "metadata": {},
   "source": [
    "Done:\n",
    "converting files to .s,.o files\n",
    "extracting a function from .o files -> .txt files\n",
    "extracting keywords from .txt files, map numbers to symbolic name\n",
    "assigning values to keywords\n",
    "\n",
    "Flow of notebook:\n",
    "1. import stuff, get folderpath\n",
    "2. copyallsharedfiles (only when required)\n",
    "3. compilespecificfunc (_bad or _good in functype)\n",
    "4. printfolder (to create keywords file)\n",
    "5. filetodictionary (turn the keywords file into dictionaries)\n",
    "6. vectorizefolder\n",
    "\n",
    "*folderpath is hardcoded\n",
    "*Tested with c files\n",
    "*Not working for c++ files"
   ]
  },
  {
   "cell_type": "code",
   "execution_count": 1,
   "metadata": {},
   "outputs": [],
   "source": [
    "import os\n",
    "import subprocess\n",
    "import shlex\n",
    "import re\n",
    "import string\n",
    "import json\n",
    "\n",
    "folderpath = '/home/(username)/Desktop/goodcexamples/testcases/000'\n",
    "\n",
    "print(\"Cell printed\")"
   ]
  },
  {
   "cell_type": "markdown",
   "metadata": {},
   "source": [
    "This function is used if there are shared files that are not in the same directory as the C/C++ file.\n",
    "(This function is best used for SARD folders.)\n",
    "*source is hardcoded"
   ]
  },
  {
   "cell_type": "code",
   "execution_count": 2,
   "metadata": {},
   "outputs": [],
   "source": [
    "def CopyAllSharedFiles():\n",
    "    source = \"/home/(username)/Desktop/goodcexamples/testcases/shared/104/.\"\n",
    "    for path, dirs, files in os.walk(folderpath):\n",
    "        processArg = \"cp -a \"+source+\" \"+path\n",
    "        args = shlex.split(processArg)\n",
    "        try:\n",
    "            checkOut = subprocess.check_output(args,cwd=path)\n",
    "        except subprocess.CalledProcessError:\n",
    "            print(\"Completed\")"
   ]
  },
  {
   "cell_type": "code",
   "execution_count": 3,
   "metadata": {},
   "outputs": [],
   "source": [
    "CopyAllSharedFiles()"
   ]
  },
  {
   "cell_type": "markdown",
   "metadata": {},
   "source": [
    "Using terminal commands to create .o files.\n",
    "Using objdump to get the assembly code of a specific function, and write to a text file.\n",
    "(Assembly language: Intel x86_64)\n",
    "(The specific function is \"\\_bad\" for now, and thus this will fail on files that have only sink/source/helper functions)\n",
    "(Use RE?)"
   ]
  },
  {
   "cell_type": "code",
   "execution_count": 6,
   "metadata": {},
   "outputs": [],
   "source": [
    "def CompileSpecificFunc():\n",
    "    sharedfiles = []\n",
    "    for path, dirs, files in os.walk(\"/home/(username)/Workfiles\"):\n",
    "        for file in files:\n",
    "            #functype = file[:-2]+\"_bad\"\n",
    "            functype = \"main\"\n",
    "            if((file.endswith(\".c\"))and (not(file in sharedfiles))):\n",
    "                processArg = \"gcc -ffunction-sections -c \"+file\n",
    "                args = shlex.split(processArg)\n",
    "                try:\n",
    "                    checkOut = subprocess.check_output(args,cwd=path)\n",
    "                except subprocess.CalledProcessError:\n",
    "                    print(\"Unable to create .o file for \"+file)\n",
    "                processArg = \"objdump -M intel -w -d --section=.text.\"+functype+\" \"+file[:-2]+\".o\"\n",
    "                args = shlex.split(processArg)\n",
    "                try:\n",
    "                    out = subprocess.check_output(args,cwd=path)\n",
    "                    filename = functype+\".txt\"\n",
    "                    filename = path+\"/\"+filename\n",
    "                    outfile = open(filename,'w')\n",
    "                    outfile.write(out.decode(\"utf-8\"))\n",
    "                    outfile.close()\n",
    "                except subprocess.CalledProcessError:\n",
    "                    print(\"error\")\n",
    "                    continue"
   ]
  },
  {
   "cell_type": "code",
   "execution_count": 7,
   "metadata": {},
   "outputs": [],
   "source": [
    "CompileSpecificFunc()"
   ]
  },
  {
   "cell_type": "markdown",
   "metadata": {},
   "source": [
    "Using terminal commands to create .s files."
   ]
  },
  {
   "cell_type": "code",
   "execution_count": 12,
   "metadata": {},
   "outputs": [],
   "source": [
    "def CompileAllFuncs():\n",
    "    sharedfiles = []\n",
    "    for path,dirs,files in os.walk(\"/home/(username)/Desktop/cexamples/testcases/shared/108\"):\n",
    "        for file in files:\n",
    "            sharedfiles.append(file)      \n",
    "    for path, dirs, files in os.walk(folderpath):\n",
    "        for file in files:\n",
    "            print(file)\n",
    "            newfilename = file[:-2]+'.s'\n",
    "            if((file.endswith(\".c\"))and (not(file in sharedfiles))):\n",
    "                processArg = \"gcc -S -masm=intel \"+file\n",
    "                #processArg = \"gcc \"+file+\" -o \"+file[:-2]+\" -Wa,-adhln=\"+newfilename+\" -g -fverbose-asm -masm=intel\"\n",
    "                args = shlex.split(processArg)\n",
    "                #out = subprocess.call(args,cwd=path)\n",
    "                try:\n",
    "                    checkOut = subprocess.check_output(args,cwd=path)\n",
    "                except subprocess.CalledProcessError:\n",
    "                    print(\"Completed\")"
   ]
  },
  {
   "cell_type": "code",
   "execution_count": null,
   "metadata": {},
   "outputs": [],
   "source": [
    "CompileAllFuncs()"
   ]
  },
  {
   "cell_type": "code",
   "execution_count": 8,
   "metadata": {
    "scrolled": true
   },
   "outputs": [],
   "source": [
    "def printfile(filetoprint):\n",
    "    keywordsfile = \"keywords.txt\"\n",
    "    kfread = open(keywordsfile,\"r+\")\n",
    "    keywords = kfread.read().splitlines()\n",
    "    keywords = list(filter(None, keywords))\n",
    "    kwlistsize = len(keywords)\n",
    "    #Reads the contents of the filetoprint, and store as an array\n",
    "    content = []\n",
    "    with open(filetoprint) as f:\n",
    "        content = f.readlines()\n",
    "        content = [x.strip() for x in content]\n",
    "    #Check that for each line in content, opcodes that are not already in the opcodes array will be appended,\n",
    "    #and other words that are not registers or hexadecimal numbers will be added to instructions array.\n",
    "    for line in content:\n",
    "        if not (\"\\t\" in line):\n",
    "            continue\n",
    "        templist = line.split(\"\\t\")\n",
    "        tempstr = templist[2]\n",
    "        tempstr = \" \".join(tempstr.split())\n",
    "        templist = re.split(' |,',tempstr)\n",
    "        tempstr = templist[0]\n",
    "        if not(tempstr in keywords):\n",
    "            keywords.append(tempstr)\n",
    "        for i in range(1,len(templist)):\n",
    "            if not (templist[i] in keywords):\n",
    "                if not ((all(c in string.hexdigits for c in templist[i]))or(templist[i].startswith(\"<\"))or(templist[i].startswith(\"0x\"))):\n",
    "                    for j in keywords:\n",
    "                        if (j in templist[i]):\n",
    "                            break\n",
    "                    else:\n",
    "                        keywords.append(templist[i])\n",
    "    #Write opcodes array to opcodes file, write instructions array to instructions file\n",
    "    #Closing 2 files after writing\n",
    "    inputstring = \"\"\n",
    "    for i in range(kwlistsize,len(keywords)):\n",
    "        inputstring = inputstring + keywords[i] + \"\\n\"\n",
    "    kfread.write(inputstring)\n",
    "    kfread.close()"
   ]
  },
  {
   "cell_type": "code",
   "execution_count": 9,
   "metadata": {},
   "outputs": [],
   "source": [
    "def printFolder():      \n",
    "    for path, dirs, files in os.walk(folderpath):\n",
    "        for file in files:\n",
    "            if(file.endswith(\"main.txt\")):\n",
    "                filetoprint = path+\"/\"+file\n",
    "                printfile(filetoprint)"
   ]
  },
  {
   "cell_type": "code",
   "execution_count": 10,
   "metadata": {},
   "outputs": [],
   "source": [
    "printFolder()"
   ]
  },
  {
   "cell_type": "markdown",
   "metadata": {},
   "source": [
    "# Assigning values to words in text files -> dictionaries"
   ]
  },
  {
   "cell_type": "code",
   "execution_count": 13,
   "metadata": {},
   "outputs": [],
   "source": [
    "def filetodictionary():\n",
    "    kwdict = {}\n",
    "    keywordsfile = \"keywords.txt\"\n",
    "    kfread = open(keywordsfile,\"r\")\n",
    "    keywords = kfread.read().splitlines()\n",
    "    keywords = list(filter(None,keywords))\n",
    "    kwlistsize = len(keywords)\n",
    "    kfread.close()\n",
    "    for i in range(0,kwlistsize):\n",
    "        kwdict[keywords[i]] = i+1\n",
    "    keywordsfile = \"keywordsdict.txt\"\n",
    "    kfdread = open(keywordsfile,\"w\")\n",
    "    kfdread.write(json.dumps(kwdict))\n",
    "    kfdread.close()\n",
    "    \n",
    "filetodictionary()"
   ]
  },
  {
   "cell_type": "code",
   "execution_count": 11,
   "metadata": {},
   "outputs": [],
   "source": [
    "#To append the vectors into vectors.txt\n",
    "\n",
    "def symbolizeAndVectorizeToFile(filevectors):\n",
    "    #randomfile = \"/home/(username)/Workfiles/goodvectors.txt\"\n",
    "    randomfile = \"/home/(username)/Workfiles/testvector.txt\"\n",
    "    rf = open(randomfile,\"a+\")\n",
    "    #rf.write(json.dumps(numdict))\n",
    "    for i in range(0,len(filevectors)-1):\n",
    "        rf.write(\"%s,\" % str(filevectors[i]))\n",
    "    rf.write(str(filevectors[len(filevectors)-1]))\n",
    "    rf.write(\"\\n\")\n",
    "    #data = json.load(rf)\n",
    "    rf.close()"
   ]
  },
  {
   "cell_type": "code",
   "execution_count": 12,
   "metadata": {},
   "outputs": [],
   "source": [
    "#To map numbers to symbolic names e.g num1\n",
    "\n",
    "def trp(l, n):\n",
    "    return l[:n] + [0]*(n-len(l))\n",
    "\n",
    "\n",
    "def symbolizeAndVectorize(filetoopen):\n",
    "    keywordsfile = \"keywordsdict.txt\"\n",
    "    kfdread = open(keywordsfile,\"r+\")\n",
    "    keywords = json.load(kfdread)\n",
    "    \n",
    "    content = []\n",
    "    opcodes = []\n",
    "    filevectors = []\n",
    "    with open(filetoopen) as f:\n",
    "        content = f.readlines()\n",
    "        content = [x.strip() for x in content]\n",
    "        #content - an array of lines from the file that was opened\n",
    "    for line in content:\n",
    "        if not (\"\\t\" in line):\n",
    "            continue\n",
    "        templist = line.split(\"\\t\")\n",
    "        tempstr = templist[2]\n",
    "        tempstr = \" \".join(tempstr.split())\n",
    "        templist = re.split(',',tempstr)\n",
    "        for i in range(0,len(templist)):\n",
    "            try:\n",
    "                hexnum = int(templist[i],16)\n",
    "                templist[i] = \"num\"\n",
    "            except ValueError:\n",
    "                continue\n",
    "        templist2 = templist[0].split()\n",
    "        opcodestr = templist2.pop(0)\n",
    "        opcodes.append(opcodestr)\n",
    "        \n",
    "        tempstr2 = \" \".join(templist2)\n",
    "        templist[0] = tempstr2\n",
    "        templist.insert(0,opcodestr)\n",
    "        operand1 = templist[1].split()\n",
    "        \n",
    "        operand2 = []\n",
    "        try:\n",
    "            operand2 = templist[2].split()\n",
    "        except IndexError:\n",
    "            operand2.append('')\n",
    "        lines = opcodes+operand1+operand2\n",
    "        opcodes = []\n",
    "        \n",
    "        for i in range(0,len(lines)):\n",
    "            if str(lines[i]).startswith(\"<\"):\n",
    "                lines[i] = \"num\"\n",
    "            elif str(lines[i]).startswith(\"[\"):\n",
    "                lines[i] = \"num\"\n",
    "            try:\n",
    "                hexnum = int(lines[i],16)\n",
    "                lines[i] = \"num\"\n",
    "            except ValueError:\n",
    "                continue\n",
    "        \n",
    "        for j in range(len(lines)):\n",
    "            if lines[j] in keywords:\n",
    "                lines[j] = keywords[lines[j]]\n",
    "            if lines[j] != '':\n",
    "                filevectors.append(lines[j])\n",
    "        \n",
    "        \n",
    "    kfdread.close()\n",
    "    symbolizeAndVectorizeToFile(filevectors)"
   ]
  },
  {
   "cell_type": "code",
   "execution_count": 13,
   "metadata": {
    "scrolled": true
   },
   "outputs": [],
   "source": [
    "def vectorizeFolder():      \n",
    "    #for path, dirs, files in os.walk(folderpath):\n",
    "    for path, dirs, files in os.walk(\"/home/(username)/Workfiles\"):\n",
    "        for file in files:\n",
    "            if(file.endswith(\"main.txt\")):\n",
    "                filetovectorize = path+\"/\"+file\n",
    "                symbolizeAndVectorize(filetovectorize)\n",
    "                \n",
    "vectorizeFolder()"
   ]
  },
  {
   "cell_type": "markdown",
   "metadata": {},
   "source": [
    "# The codes below are used for miscellaneous testing.\n",
    "\n",
    "These codes should not be executed when formally processing data."
   ]
  },
  {
   "cell_type": "code",
   "execution_count": 17,
   "metadata": {
    "scrolled": false
   },
   "outputs": [
    {
     "name": "stdout",
     "output_type": "stream",
     "text": [
      "27\n"
     ]
    }
   ],
   "source": [
    "#Function because the number of files went out of hand\n",
    "\n",
    "def showRelevantFilesInFolder():\n",
    "    count = 0\n",
    "    for path, dirs, files in os.walk(folderpath):\n",
    "        for file in files:\n",
    "            #if(file.endswith(\"good1.txt\")):\n",
    "            if(file.endswith(\"main.txt\")):\n",
    "                #print(path+\"/\"+file)\n",
    "                count += 1\n",
    "    print(count)\n",
    "                \n",
    "showRelevantFilesInFolder()"
   ]
  },
  {
   "cell_type": "code",
   "execution_count": 7,
   "metadata": {},
   "outputs": [
    {
     "name": "stdout",
     "output_type": "stream",
     "text": [
      "[]\n"
     ]
    }
   ],
   "source": [
    "#A test function for regular expressions\n",
    "\n",
    "import re\n",
    "def findFunction(filename):\n",
    "    with open(filename) as openedfile:\n",
    "        text = openedfile.read()\n",
    "        lst = re.findall(\"^(CWE.*_)?good$\",text)\n",
    "        print(lst)\n",
    "                    \n",
    "findFunction(\"/home/(username)/Desktop/cexamples/testcases/000/063/114/CWE121_Stack_Based_Buffer_Overflow__CWE193_char_alloca_memcpy_03.c\")"
   ]
  },
  {
   "cell_type": "code",
   "execution_count": 9,
   "metadata": {},
   "outputs": [
    {
     "name": "stdout",
     "output_type": "stream",
     "text": [
      "233\n"
     ]
    }
   ],
   "source": [
    "#Temporary codes used for testing etc\n",
    "import string\n",
    "def testFunction():\n",
    "    s = 'e9'\n",
    "    #print(all(c in string.hexdigits for c in s))\n",
    "    print(int(s,16))\n",
    "    #openfile = open(filename,'rb') \n",
    "    #data = openfile.read(noOfBytes)\n",
    "    #return data\n",
    "    \n",
    "testFunction()"
   ]
  },
  {
   "cell_type": "code",
   "execution_count": null,
   "metadata": {},
   "outputs": [],
   "source": [
    "#Reversed process\n",
    "\n",
    "def getAssemFromVect():\n",
    "    keywordsfile = \"keywordsdict.txt\"\n",
    "    kfdread = open(keywordsfile,\"r+\")\n",
    "    keywords = json.load(kfdread)\n",
    "    kfdread.close()\n",
    "    wordslist = []\n",
    "    randomfile = \"/home/(username)/Workfiles/goodvectors.txt\"\n",
    "    with open(randomfile) as file:\n",
    "        lines = [line.strip() for line in file]\n",
    "    for line in lines:\n",
    "        templist = [x.strip() for x in line.split(',')]\n",
    "        for item in templist:\n",
    "            for keyword, value in keywords.items():\n",
    "                #print(\"item: \"+item)\n",
    "                #print(\"value: \"+value)\n",
    "                if value == int(item):\n",
    "                    wordslist.append(keyword)\n",
    "        print(wordslist)\n",
    "        wordslist=[]\n",
    "    \n",
    "getAssemFromVect()"
   ]
  },
  {
   "cell_type": "code",
   "execution_count": null,
   "metadata": {},
   "outputs": [],
   "source": []
  }
 ],
 "metadata": {
  "kernelspec": {
   "display_name": "Python 3",
   "language": "python",
   "name": "python3"
  },
  "language_info": {
   "codemirror_mode": {
    "name": "ipython",
    "version": 3
   },
   "file_extension": ".py",
   "mimetype": "text/x-python",
   "name": "python",
   "nbconvert_exporter": "python",
   "pygments_lexer": "ipython3",
   "version": "3.6.2"
  }
 },
 "nbformat": 4,
 "nbformat_minor": 2
}
