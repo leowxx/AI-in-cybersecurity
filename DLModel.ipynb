{
 "cells": [
  {
   "cell_type": "code",
   "execution_count": 1,
   "metadata": {
    "collapsed": true
   },
   "outputs": [],
   "source": [
    "import os\n",
    "#Defaults to 0, so all logs are shown.\n",
    "#Set TF_CPP_MIN_LOG_LEVEL to 1 to filter out INFO logs\n",
    "#2 to additionally filter out WARNING,\n",
    "#3 to additionally filter out ERROR.\n",
    "os.environ[\"TF_CPP_MIN_LOG_LEVEL\"]=\"3\"\n",
    "import json"
   ]
  },
  {
   "cell_type": "code",
   "execution_count": 2,
   "metadata": {},
   "outputs": [
    {
     "name": "stdout",
     "output_type": "stream",
     "text": [
      "123\n"
     ]
    }
   ],
   "source": [
    "#Get keywords dict, also a reversed ver. of dict\n",
    "#There is no key for value 41 due to an error?\n",
    "\n",
    "keywordsfile = \"keywordsdict.txt\"\n",
    "kfdread = open(keywordsfile,\"r\")\n",
    "keywords = json.load(kfdread)\n",
    "kfdread.close()\n",
    "\n",
    "print(len(keywords))\n",
    "\n",
    "valtokeyw = {v: k for k, v in keywords.items()}\n"
   ]
  },
  {
   "cell_type": "code",
   "execution_count": 3,
   "metadata": {},
   "outputs": [
    {
     "name": "stderr",
     "output_type": "stream",
     "text": [
      "/opt/anaconda3/lib/python3.6/site-packages/h5py/__init__.py:34: FutureWarning: Conversion of the second argument of issubdtype from `float` to `np.floating` is deprecated. In future, it will be treated as `np.float64 == np.dtype(float).type`.\n",
      "  from ._conv import register_converters as _register_converters\n",
      "Using TensorFlow backend.\n",
      "/opt/anaconda3/lib/python3.6/importlib/_bootstrap.py:219: RuntimeWarning: compiletime version 3.5 of module 'tensorflow.python.framework.fast_tensor_util' does not match runtime version 3.6\n",
      "  return f(*args, **kwds)\n",
      "/opt/anaconda3/lib/python3.6/site-packages/sklearn/cross_validation.py:41: DeprecationWarning: This module was deprecated in version 0.18 in favor of the model_selection module into which all the refactored classes and functions are moved. Also note that the interface of the new CV iterators are different from that of this module. This module will be removed in 0.20.\n",
      "  \"This module will be removed in 0.20.\", DeprecationWarning)\n"
     ]
    }
   ],
   "source": [
    "import numpy\n",
    "from keras.models import Sequential\n",
    "from keras import layers\n",
    "from keras.optimizers import RMSprop\n",
    "from keras.layers import LSTM\n",
    "from keras.layers.core import Dense\n",
    "#from keras.preprocessing import sequence\n",
    "import pandas as pd\n",
    "from sklearn.cross_validation import train_test_split\n",
    "from sklearn.linear_model import LinearRegression\n",
    "from numpy.random import seed\n",
    "\n",
    "seed(1)\n",
    "\n",
    "dataset = pd.read_csv('vectors9.csv')\n",
    "y = dataset.iloc[:, 0].values\n",
    "x = dataset.iloc[:, 1:].values"
   ]
  },
  {
   "cell_type": "code",
   "execution_count": 4,
   "metadata": {
    "collapsed": true,
    "scrolled": true
   },
   "outputs": [],
   "source": [
    "n_labels = len(keywords)+2\n",
    "\n",
    "x1 = numpy.eye(n_labels)[x]"
   ]
  },
  {
   "cell_type": "code",
   "execution_count": 5,
   "metadata": {
    "scrolled": false
   },
   "outputs": [
    {
     "name": "stdout",
     "output_type": "stream",
     "text": [
      "3\n",
      "1\n",
      "(14214, 200, 125)\n",
      "(14214,)\n"
     ]
    }
   ],
   "source": [
    "print(x1.ndim)\n",
    "print(y.ndim)\n",
    "\n",
    "print(x1.shape)\n",
    "print(y.shape)"
   ]
  },
  {
   "cell_type": "code",
   "execution_count": 6,
   "metadata": {
    "scrolled": true
   },
   "outputs": [
    {
     "name": "stdout",
     "output_type": "stream",
     "text": [
      "0\n",
      "1.0\n",
      "0\n",
      "1.0\n"
     ]
    }
   ],
   "source": [
    "#from imblearn.over_sampling import SMOTE\n",
    "from sklearn.utils.class_weight import compute_sample_weight\n",
    "\n",
    "calculated_weight = compute_sample_weight(class_weight='balanced',y=y)\n",
    "\n",
    "print(y[0])\n",
    "print(calculated_weight[0])\n",
    "\n",
    "print(y[101])\n",
    "print(calculated_weight[101])\n",
    "\n",
    "#class_weight = {0:9.897350993377483,1:0.5266032417195208}\n",
    "#class_weight = {0:0.7590567825643268,1:1.4650393922341025}\n",
    "\n",
    "#Splitting to training and test sets\n",
    "x_train, x_test, y_train, y_test = train_test_split(x1, y, test_size=0.3, random_state=42)"
   ]
  },
  {
   "cell_type": "markdown",
   "metadata": {},
   "source": [
    "# LSTM Model"
   ]
  },
  {
   "cell_type": "code",
   "execution_count": 24,
   "metadata": {
    "collapsed": true
   },
   "outputs": [],
   "source": [
    "import functools\n",
    "from keras import backend as K\n",
    "import tensorflow as tf\n",
    "\n",
    "def as_keras_metric(method):\n",
    "    @functools.wraps(method)\n",
    "    def wrapper(self, args, **kwargs):\n",
    "        \"\"\" Wrapper for turning tensorflow metrics into keras metrics \"\"\"\n",
    "        value, update_op = method(self, args, **kwargs)\n",
    "        K.get_session().run(tf.local_variables_initializer())\n",
    "        with tf.control_dependencies([update_op]):\n",
    "            value = tf.identity(value)\n",
    "        return value\n",
    "    return wrapper\n",
    "\n",
    "precision = as_keras_metric(tf.metrics.precision)\n",
    "recall = as_keras_metric(tf.metrics.recall)\n",
    "\n",
    "@as_keras_metric\n",
    "def auc_pr(y_true, y_pred, curve='PR'):\n",
    "    return tf.metrics.auc(y_true, y_pred, curve=curve)"
   ]
  },
  {
   "cell_type": "code",
   "execution_count": 28,
   "metadata": {},
   "outputs": [
    {
     "name": "stdout",
     "output_type": "stream",
     "text": [
      "_________________________________________________________________\n",
      "Layer (type)                 Output Shape              Param #   \n",
      "=================================================================\n",
      "lstm_3 (LSTM)                (None, 100)               90400     \n",
      "_________________________________________________________________\n",
      "dense_11 (Dense)             (None, 100)               10100     \n",
      "_________________________________________________________________\n",
      "dense_12 (Dense)             (None, 1)                 101       \n",
      "=================================================================\n",
      "Total params: 100,601\n",
      "Trainable params: 100,601\n",
      "Non-trainable params: 0\n",
      "_________________________________________________________________\n"
     ]
    }
   ],
   "source": [
    "from keras import regularizers\n",
    "from keras.layers import Dropout\n",
    "\n",
    "feature_size = x1.shape[-1]\n",
    "model = Sequential()\n",
    "model.add(LSTM(100, input_shape=(200, feature_size)))\n",
    "#model.add(Conv1D(64,kernel_size=1,input_shape=(200, feature_size)))\n",
    "#model.add(Dense(feature_size,activation='relu'))\n",
    "model.add(Dense(100, input_dim=feature_size,\n",
    "                kernel_regularizer=regularizers.l2(0.01),\n",
    "                activity_regularizer=regularizers.l1(0.01)))\n",
    "#model.add(Dropout(0.1))\n",
    "model.add(Dense(1, activation='sigmoid'))\n",
    "model.compile(optimizer='adam', loss='binary_crossentropy', metrics=[precision,recall])\n",
    "\n",
    "model.summary()\n",
    "history = model.fit(x_train, y_train, epochs=300, batch_size=512, verbose=0)"
   ]
  },
  {
   "cell_type": "markdown",
   "metadata": {},
   "source": [
    "# Conv1D Model"
   ]
  },
  {
   "cell_type": "code",
   "execution_count": 28,
   "metadata": {
    "scrolled": false
   },
   "outputs": [
    {
     "name": "stdout",
     "output_type": "stream",
     "text": [
      "(None, 200, 125)\n",
      "(None, 196, 512)\n",
      "(None, 19, 512)\n",
      "_________________________________________________________________\n",
      "Layer (type)                 Output Shape              Param #   \n",
      "=================================================================\n",
      "conv1d_22 (Conv1D)           (None, 198, 700)          263200    \n",
      "_________________________________________________________________\n",
      "conv1d_23 (Conv1D)           (None, 196, 512)          1075712   \n",
      "_________________________________________________________________\n",
      "max_pooling1d_8 (MaxPooling1 (None, 19, 512)           0         \n",
      "_________________________________________________________________\n",
      "conv1d_24 (Conv1D)           (None, 17, 256)           393472    \n",
      "_________________________________________________________________\n",
      "global_average_pooling1d_8 ( (None, 256)               0         \n",
      "_________________________________________________________________\n",
      "dropout_8 (Dropout)          (None, 256)               0         \n",
      "_________________________________________________________________\n",
      "dense_8 (Dense)              (None, 1)                 257       \n",
      "=================================================================\n",
      "Total params: 1,732,641\n",
      "Trainable params: 1,732,641\n",
      "Non-trainable params: 0\n",
      "_________________________________________________________________\n"
     ]
    }
   ],
   "source": [
    "from keras.models import Sequential\n",
    "from keras.layers import Dense, Dropout\n",
    "from keras.layers import Embedding\n",
    "from keras.layers import Conv1D, GlobalAveragePooling1D, MaxPooling1D\n",
    "from keras import regularizers\n",
    "\n",
    "feature_size = x1.shape[-1]\n",
    "model = Sequential()\n",
    "model.add(Conv1D(700, 3, activation='elu', input_shape=(200, feature_size)))\n",
    "model.add(Conv1D(512, 3, activation='elu'))\n",
    "print(model.input_shape)\n",
    "print(model.output_shape)\n",
    "model.add(MaxPooling1D(pool_size = (15), strides=(10)))\n",
    "print(model.output_shape)\n",
    "model.add(Conv1D(256, 3))\n",
    "model.add(GlobalAveragePooling1D())\n",
    "model.add(Dropout(0.5))\n",
    "model.add(Dense(1, activation='sigmoid',kernel_regularizer=regularizers.l1(0.01)))\n",
    "\n",
    "model.compile(loss='binary_crossentropy',\n",
    "              optimizer='adam',\n",
    "              metrics=['accuracy'])\n",
    "\n",
    "history = model.fit(x_train, y_train, batch_size=512, validation_split=0.3, epochs=200,verbose=0)\n",
    "#score = model.evaluate(x_test, y_test, batch_size=16)\n",
    "model.summary()"
   ]
  },
  {
   "cell_type": "markdown",
   "metadata": {},
   "source": [
    "# Graph"
   ]
  },
  {
   "cell_type": "code",
   "execution_count": 29,
   "metadata": {
    "scrolled": false
   },
   "outputs": [
    {
     "data": {
      "image/png": "[encoded data removed]",
      "text/plain": [
       "<matplotlib.figure.Figure at 0x7f93e466e2e8>"
      ]
     },
     "metadata": {},
     "output_type": "display_data"
    },
    {
     "data": {
      "image/png": "[encoded data removed]",
      "text/plain": [
       "<matplotlib.figure.Figure at 0x7f94001892e8>"
      ]
     },
     "metadata": {},
     "output_type": "display_data"
    }
   ],
   "source": [
    "from sklearn.metrics import roc_curve\n",
    "import matplotlib.pyplot as plt\n",
    "\n",
    "y_pred_keras = model.predict(x_test).ravel()\n",
    "fpr_keras, tpr_keras, thresholds_keras = roc_curve(y_test, y_pred_keras)\n",
    "\n",
    "from sklearn.metrics import auc\n",
    "auc_keras = auc(fpr_keras, tpr_keras)\n",
    "\n",
    "plt.figure(1)\n",
    "plt.plot([0, 1], [0, 1], 'k--')\n",
    "plt.plot(fpr_keras, tpr_keras, label='Keras (area = {:.3f})'.format(auc_keras))\n",
    "plt.xlabel('False positive rate')\n",
    "plt.ylabel('True positive rate')\n",
    "plt.title('ROC curve')\n",
    "plt.legend(loc='best')\n",
    "plt.show()\n",
    "# Zoom in view of the upper left corner.\n",
    "plt.figure(2)\n",
    "plt.xlim(0, 0.2)\n",
    "plt.ylim(0.8, 1)\n",
    "plt.plot([0, 1], [0, 1], 'k--')\n",
    "plt.plot(fpr_keras, tpr_keras, label='Keras (area = {:.3f})'.format(auc_keras))\n",
    "plt.xlabel('False positive rate')\n",
    "plt.ylabel('True positive rate')\n",
    "plt.title('ROC curve (zoomed in at top left)')\n",
    "plt.legend(loc='best')\n",
    "plt.show()"
   ]
  },
  {
   "cell_type": "code",
   "execution_count": 30,
   "metadata": {
    "scrolled": false
   },
   "outputs": [
    {
     "data": {
      "image/png": "[encoded data removed]",
      "text/plain": [
       "<matplotlib.figure.Figure at 0x7f93e44816d8>"
      ]
     },
     "metadata": {},
     "output_type": "display_data"
    },
    {
     "data": {
      "image/png": "[encoded data removed]",
      "text/plain": [
       "<matplotlib.figure.Figure at 0x7f93e442af28>"
      ]
     },
     "metadata": {},
     "output_type": "display_data"
    }
   ],
   "source": [
    "import matplotlib.pyplot as plt\n",
    "\n",
    "acc = history.history['acc']\n",
    "val_acc = history.history['val_acc']\n",
    "loss = history.history['loss']\n",
    "val_loss = history.history['val_loss']\n",
    "\n",
    "epochs = range(1, len(acc) + 1)\n",
    "\n",
    "plt.rcParams[\"figure.figsize\"] = (8,5)\n",
    "plt.plot(epochs, acc, label='Training acc')\n",
    "plt.plot(epochs, val_acc, label='Validation acc')\n",
    "plt.title('Training and validation accuracy')\n",
    "plt.legend()\n",
    "\n",
    "plt.figure()\n",
    "\n",
    "plt.plot(epochs, loss, label='Training loss')\n",
    "plt.plot(epochs, val_loss, label='Validation loss')\n",
    "plt.title('Training and validation loss')\n",
    "plt.legend()\n",
    "\n",
    "plt.show()"
   ]
  },
  {
   "cell_type": "code",
   "execution_count": 83,
   "metadata": {
    "scrolled": false
   },
   "outputs": [
    {
     "name": "stdout",
     "output_type": "stream",
     "text": [
      "4265/4265 [==============================] - 1s 213us/step\n",
      "\n",
      "acc: 71.42%\n"
     ]
    }
   ],
   "source": [
    "# evaluate the model\n",
    "scores = model.evaluate(x_test, y_test)\n",
    "print(\"\\n%s: %.2f%%\" % (model.metrics_names[1], scores[1]*100))"
   ]
  },
  {
   "cell_type": "code",
   "execution_count": 84,
   "metadata": {},
   "outputs": [
    {
     "name": "stdout",
     "output_type": "stream",
     "text": [
      "Saved model to disk\n"
     ]
    }
   ],
   "source": [
    "# serialize model to JSON\n",
    "model_json = model.to_json()\n",
    "with open(\"model.json\", \"w\") as json_file:\n",
    "    json_file.write(model_json)\n",
    "# serialize weights to HDF5\n",
    "model.save_weights(\"model.h5\")\n",
    "print(\"Saved model to disk\")"
   ]
  },
  {
   "cell_type": "code",
   "execution_count": 44,
   "metadata": {},
   "outputs": [
    {
     "name": "stdout",
     "output_type": "stream",
     "text": [
      "Loaded model from disk\n"
     ]
    }
   ],
   "source": [
    "from keras.models import model_from_json\n",
    "\n",
    "# load json and create model\n",
    "json_file = open('model.json', 'r')\n",
    "loaded_model_json = json_file.read()\n",
    "json_file.close()\n",
    "loaded_model = model_from_json(loaded_model_json)\n",
    "# load weights into new model\n",
    "loaded_model.load_weights(\"model.h5\")\n",
    "print(\"Loaded model from disk\")"
   ]
  },
  {
   "cell_type": "code",
   "execution_count": 45,
   "metadata": {},
   "outputs": [
    {
     "name": "stdout",
     "output_type": "stream",
     "text": [
      "acc: 70.72%\n"
     ]
    }
   ],
   "source": [
    "# evaluate loaded model on test data\n",
    "loaded_model.compile(loss='binary_crossentropy', optimizer='rmsprop', metrics=['accuracy'])\n",
    "score = loaded_model.evaluate(x_test, y_test, verbose=0)\n",
    "print(\"%s: %.2f%%\" % (loaded_model.metrics_names[1], score[1]*100))"
   ]
  },
  {
   "cell_type": "code",
   "execution_count": 18,
   "metadata": {
    "scrolled": false
   },
   "outputs": [
    {
     "name": "stdout",
     "output_type": "stream",
     "text": [
      "(4, 200, 125)\n",
      "(4, 1)\n",
      "X=[[0. 0. 0. ... 0. 0. 0.]\n",
      " [0. 0. 0. ... 0. 0. 0.]\n",
      " [0. 0. 0. ... 0. 0. 0.]\n",
      " ...\n",
      " [1. 0. 0. ... 0. 0. 0.]\n",
      " [1. 0. 0. ... 0. 0. 0.]\n",
      " [1. 0. 0. ... 0. 0. 0.]], Predicted=[1]\n",
      "Probability=[0.5263393]\n",
      "X=[[0. 0. 0. ... 0. 0. 0.]\n",
      " [0. 0. 0. ... 0. 0. 0.]\n",
      " [0. 0. 0. ... 0. 0. 0.]\n",
      " ...\n",
      " [1. 0. 0. ... 0. 0. 0.]\n",
      " [1. 0. 0. ... 0. 0. 0.]\n",
      " [1. 0. 0. ... 0. 0. 0.]], Predicted=[1]\n",
      "Probability=[0.5263393]\n",
      "X=[[0. 0. 0. ... 0. 0. 0.]\n",
      " [0. 0. 0. ... 0. 0. 0.]\n",
      " [0. 0. 0. ... 0. 0. 0.]\n",
      " ...\n",
      " [1. 0. 0. ... 0. 0. 0.]\n",
      " [1. 0. 0. ... 0. 0. 0.]\n",
      " [1. 0. 0. ... 0. 0. 0.]], Predicted=[0]\n",
      "Probability=[0.00233869]\n",
      "X=[[0. 0. 0. ... 0. 0. 0.]\n",
      " [0. 0. 0. ... 0. 0. 0.]\n",
      " [0. 0. 0. ... 0. 0. 0.]\n",
      " ...\n",
      " [1. 0. 0. ... 0. 0. 0.]\n",
      " [1. 0. 0. ... 0. 0. 0.]\n",
      " [1. 0. 0. ... 0. 0. 0.]], Predicted=[0]\n",
      "Probability=[0.4856821]\n"
     ]
    }
   ],
   "source": [
    "testset = pd.read_csv('vector.csv',header=None)\n",
    "testx = testset.iloc[:, 0:].values\n",
    "\n",
    "testx1 = numpy.eye(n_labels)[testx]\n",
    "\n",
    "testy = model.predict_classes(testx1)\n",
    "probability = model.predict_proba(testx1)\n",
    "\n",
    "#print(testx)\n",
    "\n",
    "print(testx1.shape)\n",
    "print(testy.shape)\n",
    "\n",
    "for i in range(0,len(testy)):\n",
    "    print(\"X=%s, Predicted=%s\" % (testx1[i], testy[i]))\n",
    "    print(\"Probability=%s\"%(probability[i]))"
   ]
  },
  {
   "cell_type": "code",
   "execution_count": null,
   "metadata": {
    "collapsed": true
   },
   "outputs": [],
   "source": [
    "#Creating csv file, pad zeroes/cut data\n",
    "\n",
    "import csv\n",
    "\n",
    "total = 0\n",
    "count = 0\n",
    "fixedsize = 170\n",
    "good = \"0\"\n",
    "bad = \"1\"\n",
    "\n",
    "#Function to pad zeroes\n",
    "def trp(l, n):\n",
    "    return l[:n] + [0]*(n-len(l))\n",
    "\n",
    "with open(\"goodvectors.txt\",\"r\") as good_file:\n",
    "    #stripped = (line.strip() for line in good_file)\n",
    "    #lines = (line.split(\",\") for line in stripped if line)\n",
    "    lines = [line.strip() for line in good_file]\n",
    "    with open(\"vectors.csv\",\"a\") as out_file:\n",
    "        codewriter = csv.writer(out_file, delimiter=',', quotechar='\"', quoting=csv.QUOTE_MINIMAL)\n",
    "        for line in lines:\n",
    "            templist = [x.strip() for x in line.split(',')]\n",
    "            tempstr = ''\n",
    "            \n",
    "            #Make the size of templist to be fixedsize\n",
    "            if (len(templist)<fixedsize):\n",
    "                templist = trp(templist,fixedsize)\n",
    "            elif (len(templist)>fixedsize):\n",
    "                templist = templist[:fixedsize]\n",
    "            print(len(templist))\n",
    "            for i in range(0,len(templist)-1):\n",
    "                tempstr = tempstr + str(templist[i])+\",\"\n",
    "            tempstr = tempstr + str(templist[len(templist)-1])\n",
    "            \n",
    "            templist2 = []\n",
    "            templist2.insert(0,good) #Toggle between good/bad according to source file\n",
    "            templist2.insert(1,tempstr)\n",
    "            codewriter.writerow(templist2)\n"
   ]
  },
  {
   "cell_type": "code",
   "execution_count": 2,
   "metadata": {
    "collapsed": true
   },
   "outputs": [],
   "source": [
    "#Creating csv file, pad zeroes/cut data\n",
    "#VERSION 2\n",
    "\n",
    "import csv\n",
    "\n",
    "total = 0\n",
    "count = 0\n",
    "fixedsize = 170\n",
    "good = \"0\"\n",
    "bad = \"1\"\n",
    "\n",
    "#Function to pad zeroes\n",
    "def trp(l, n):\n",
    "    return l[:n] + [0]*(n-len(l))\n",
    "\n",
    "with open(\"badvectors.txt\",\"r\") as good_file:\n",
    "    #stripped = (line.strip() for line in good_file)\n",
    "    #lines = (line.split(\",\") for line in stripped if line)\n",
    "    lines = [line.strip() for line in good_file]\n",
    "    with open(\"vectors4.csv\",\"a\") as out_file:\n",
    "        codewriter = csv.writer(out_file, delimiter=',', quotechar='\"', quoting=csv.QUOTE_MINIMAL)\n",
    "        for line in lines:\n",
    "            templist = [int(x.strip()) for x in line.split(',')]\n",
    "            \n",
    "            #Make the size of templist to be fixedsize\n",
    "            if (len(templist)<fixedsize):\n",
    "                templist = trp(templist,fixedsize)\n",
    "            elif (len(templist)>fixedsize):\n",
    "                templist = templist[:fixedsize]\n",
    "            \n",
    "            templist.insert(0,bad) #Toggle between good/bad according to source file\n",
    "            codewriter.writerow(templist)\n"
   ]
  },
  {
   "cell_type": "code",
   "execution_count": 22,
   "metadata": {
    "collapsed": true
   },
   "outputs": [],
   "source": [
    "#For testvector.txt\n",
    "\n",
    "import csv\n",
    "\n",
    "total = 0\n",
    "count = 0\n",
    "fixedsize = 170\n",
    "\n",
    "#Function to pad zeroes\n",
    "def trp(l, n):\n",
    "    return l[:n] + [0]*(n-len(l))\n",
    "\n",
    "with open(\"testvector.txt\",\"r\") as good_file:\n",
    "    #stripped = (line.strip() for line in good_file)\n",
    "    #lines = (line.split(\",\") for line in stripped if line)\n",
    "    lines = [line.strip() for line in good_file]\n",
    "    with open(\"testvector.csv\",\"w\") as out_file:\n",
    "        codewriter = csv.writer(out_file, delimiter=',', quotechar='\"', quoting=csv.QUOTE_MINIMAL)\n",
    "        for line in lines:\n",
    "            templist = [int(x.strip()) for x in line.split(',')]\n",
    "            \n",
    "            #Make the size of templist to be fixedsize\n",
    "            if (len(templist)<fixedsize):\n",
    "                templist = trp(templist,fixedsize)\n",
    "            elif (len(templist)>fixedsize):\n",
    "                templist = templist[:fixedsize]\n",
    "            \n",
    "            codewriter.writerow(templist)"
   ]
  },
  {
   "cell_type": "code",
   "execution_count": 1,
   "metadata": {},
   "outputs": [
    {
     "name": "stderr",
     "output_type": "stream",
     "text": [
      "/opt/anaconda3/lib/python3.6/site-packages/h5py/__init__.py:34: FutureWarning: Conversion of the second argument of issubdtype from `float` to `np.floating` is deprecated. In future, it will be treated as `np.float64 == np.dtype(float).type`.\n",
      "  from ._conv import register_converters as _register_converters\n",
      "Using TensorFlow backend.\n",
      "/opt/anaconda3/lib/python3.6/importlib/_bootstrap.py:219: RuntimeWarning: compiletime version 3.5 of module 'tensorflow.python.framework.fast_tensor_util' does not match runtime version 3.6\n",
      "  return f(*args, **kwds)\n"
     ]
    }
   ],
   "source": [
    "# Importing dependencies numpy and keras\n",
    "import pandas as pd\n",
    "import numpy as np\n",
    "import matplotlib.pyplot as plt\n",
    "import seaborn as sns\n",
    "from sklearn.model_selection import train_test_split\n",
    "from sklearn.preprocessing import LabelEncoder\n",
    "from keras.models import Model\n",
    "from keras.layers import LSTM, Activation, Dense, Dropout, Input, Embedding\n",
    "from keras.optimizers import RMSprop\n",
    "from keras.preprocessing.text import Tokenizer\n",
    "from keras.preprocessing import sequence\n",
    "from keras.utils import to_categorical\n",
    "from keras.callbacks import EarlyStopping\n",
    "%matplotlib inline"
   ]
  },
  {
   "cell_type": "code",
   "execution_count": 2,
   "metadata": {},
   "outputs": [
    {
     "name": "stdout",
     "output_type": "stream",
     "text": [
      "<class 'pandas.core.frame.DataFrame'>\n",
      "RangeIndex: 14214 entries, 0 to 14213\n",
      "Columns: 201 entries, type to Unnamed: 200\n",
      "dtypes: int64(201)\n",
      "memory usage: 21.8 MB\n"
     ]
    }
   ],
   "source": [
    "df = pd.read_csv('vectors9.csv',delimiter=',',encoding='latin-1')\n",
    "df.info()"
   ]
  },
  {
   "cell_type": "code",
   "execution_count": 3,
   "metadata": {},
   "outputs": [
    {
     "data": {
      "text/plain": [
       "Text(0.5,1,'Number of good codes (0) and bad codes (1) in the test data')"
      ]
     },
     "execution_count": 3,
     "metadata": {},
     "output_type": "execute_result"
    },
    {
     "data": {
      "image/png": "[encoded data removed]",
      "text/plain": [
       "<matplotlib.figure.Figure at 0x7f64501cf3c8>"
      ]
     },
     "metadata": {},
     "output_type": "display_data"
    }
   ],
   "source": [
    "sns.countplot(df.type)\n",
    "plt.xlabel('Type')\n",
    "plt.title('Number of good codes (0) and bad codes (1) in the test data')"
   ]
  },
  {
   "cell_type": "markdown",
   "metadata": {},
   "source": [
    "# The codes below are used for miscellaneous testing.\n",
    "\n",
    "These codes should not be executed when formally processing data."
   ]
  },
  {
   "cell_type": "code",
   "execution_count": null,
   "metadata": {
    "collapsed": true
   },
   "outputs": [],
   "source": [
    "#Function to get assembly code from vectors\n",
    "\n",
    "def getAssemFromVect():\n",
    "    keywordsfile = \"keywordsdict.txt\"\n",
    "    kfdread = open(keywordsfile,\"r+\")\n",
    "    keywords = json.load(kfdread)\n",
    "    kfdread.close()\n",
    "    wordslist = []\n",
    "    randomfile = \"/home/osboxes/Workfiles/goodvectors.txt\"\n",
    "    with open(randomfile) as file:\n",
    "        lines = [line.strip() for line in file]\n",
    "    for line in lines:\n",
    "        templist = [x.strip() for x in line.split(',')]\n",
    "        for item in templist:\n",
    "            for keyword, value in keywords.items():\n",
    "                #print(\"item: \"+item)\n",
    "                #print(\"value: \"+value)\n",
    "                if value == int(item):\n",
    "                    wordslist.append(keyword)\n",
    "        print(wordslist)\n",
    "        wordslist=[]\n",
    "    \n",
    "getAssemFromVect()"
   ]
  },
  {
   "cell_type": "code",
   "execution_count": null,
   "metadata": {
    "collapsed": true
   },
   "outputs": [],
   "source": [
    "def showRelevantFilesInFolder():\n",
    "    count = 0\n",
    "    for path, dirs, files in os.walk(folderpath):\n",
    "        for file in files:\n",
    "            #if(file.endswith(\"good1.txt\")):\n",
    "            if(file.endswith(\"good3.txt\")):\n",
    "                #print(path+\"/\"+file)\n",
    "                count += 1\n",
    "    print(count)\n",
    "                \n",
    "showRelevantFilesInFolder()"
   ]
  },
  {
   "cell_type": "code",
   "execution_count": null,
   "metadata": {
    "collapsed": true
   },
   "outputs": [],
   "source": []
  }
 ],
 "metadata": {
  "kernelspec": {
   "display_name": "Python 3",
   "language": "python",
   "name": "python3"
  },
  "language_info": {
   "codemirror_mode": {
    "name": "ipython",
    "version": 3
   },
   "file_extension": ".py",
   "mimetype": "text/x-python",
   "name": "python",
   "nbconvert_exporter": "python",
   "pygments_lexer": "ipython3",
   "version": "3.6.3"
  }
 },
 "nbformat": 4,
 "nbformat_minor": 2
}
